{
 "cells": [
  {
   "cell_type": "code",
   "execution_count": 1,
   "metadata": {},
   "outputs": [],
   "source": [
    "import openai\n"
   ]
  },
  {
   "cell_type": "code",
   "execution_count": 3,
   "metadata": {},
   "outputs": [],
   "source": [
    "openai.api_key = ''\n"
   ]
  },
  {
   "cell_type": "code",
   "execution_count": 13,
   "metadata": {},
   "outputs": [],
   "source": [
    "from openai import OpenAI\n",
    "client = OpenAI()\n",
    "\n",
    "prompt = \"\"\"Generate description of this table: \n",
    "    class Film(Base):\n",
    "    __tablename__ = 'film'\n",
    "\n",
    "    film_id = Column(Integer, primary_key=True, server_default=text(\"nextval('film_film_id_seq'::regclass)\"))\n",
    "    title = Column(String(255), nullable=False, index=True)\n",
    "    description = Column(Text)\n",
    "    release_year = Column(Integer)\n",
    "    language_id = Column(ForeignKey('language.language_id', ondelete='RESTRICT', onupdate='CASCADE'), nullable=False, index=True)\n",
    "    rental_duration = Column(SmallInteger, nullable=False, server_default=text(\"3\"))\n",
    "    rental_rate = Column(Numeric(4, 2), nullable=False, server_default=text(\"4.99\"))\n",
    "    length = Column(SmallInteger)\n",
    "    replacement_cost = Column(Numeric(5, 2), nullable=False, server_default=text(\"19.99\"))\n",
    "    rating = Column(Enum('G', 'PG', 'PG-13', 'R', 'NC-17', name='mpaa_rating'), server_default=text(\"'G'::mpaa_rating\"))\n",
    "    last_update = Column(DateTime, nullable=False, server_default=text(\"now()\"))\n",
    "    special_features = Column(ARRAY(Text()))\n",
    "    fulltext = Column(TSVECTOR, nullable=False, index=True)\n",
    "\n",
    "    language = relationship('Language')\"\"\"\n",
    "\n",
    "completion = client.completions.create(\n",
    "    prompt=prompt,\n",
    "    model=\"text-davinci-003\", \n",
    "    max_tokens=150,\n",
    "    n=1,\n",
    "    stop=None,\n",
    "    )"
   ]
  },
  {
   "cell_type": "code",
   "execution_count": 14,
   "metadata": {},
   "outputs": [
    {
     "name": "stdout",
     "output_type": "stream",
     "text": [
      "\n",
      "\n",
      "This table is called 'film' and consists of various columns storing information about films. The film_id column is a primary key and server default is given. There is a title column which is a string of 255 characters and is not nullable and has an index. Description and release year columns are provided as Text and Integer data types respectively. There is also a language_id column which is a foreign key and not nullable, and has an index. Rental duration, rate, length, replacement cost and rating columns are provided with SmallInteger, Numeric, SmallInteger, Numeric and Enum data types respectively. Last_update column store datetime and is not nullable with a server default of 'now()'. Special\n"
     ]
    }
   ],
   "source": [
    "print(completion.choices[0].text)"
   ]
  }
 ],
 "metadata": {
  "kernelspec": {
   "display_name": "Python 3",
   "language": "python",
   "name": "python3"
  },
  "language_info": {
   "codemirror_mode": {
    "name": "ipython",
    "version": 3
   },
   "file_extension": ".py",
   "mimetype": "text/x-python",
   "name": "python",
   "nbconvert_exporter": "python",
   "pygments_lexer": "ipython3",
   "version": "3.9.18"
  }
 },
 "nbformat": 4,
 "nbformat_minor": 2
}
